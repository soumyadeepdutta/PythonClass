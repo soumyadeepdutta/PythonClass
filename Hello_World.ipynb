{
  "nbformat": 4,
  "nbformat_minor": 0,
  "metadata": {
    "colab": {
      "name": "Hello World",
      "provenance": [],
      "authorship_tag": "ABX9TyPW7WK8PZCeU/ZZnFUqeVaU",
      "include_colab_link": true
    },
    "kernelspec": {
      "name": "python3",
      "display_name": "Python 3"
    }
  },
  "cells": [
    {
      "cell_type": "markdown",
      "metadata": {
        "id": "view-in-github",
        "colab_type": "text"
      },
      "source": [
        "<a href=\"https://colab.research.google.com/github/soumyadeepdutta/PythonClass/blob/master/Hello_World.ipynb\" target=\"_parent\"><img src=\"https://colab.research.google.com/assets/colab-badge.svg\" alt=\"Open In Colab\"/></a>"
      ]
    },
    {
      "cell_type": "code",
      "metadata": {
        "id": "DZl8g_UPH4vM",
        "colab_type": "code",
        "colab": {
          "base_uri": "https://localhost:8080/",
          "height": 34
        },
        "outputId": "7b397cd1-812d-4baa-b09f-7a64fafc3fa1"
      },
      "source": [
        "name = \"Soumyadeep\"\n",
        "print(name)"
      ],
      "execution_count": 1,
      "outputs": [
        {
          "output_type": "stream",
          "text": [
            "Soumyadeep\n"
          ],
          "name": "stdout"
        }
      ]
    },
    {
      "cell_type": "code",
      "metadata": {
        "id": "8moOLetdr89F",
        "colab_type": "code",
        "colab": {
          "base_uri": "https://localhost:8080/",
          "height": 34
        },
        "outputId": "d6e44ec5-7aad-43f0-a33b-3b69a255ee56"
      },
      "source": [
        "print(type(name))"
      ],
      "execution_count": 2,
      "outputs": [
        {
          "output_type": "stream",
          "text": [
            "<class 'str'>\n"
          ],
          "name": "stdout"
        }
      ]
    },
    {
      "cell_type": "code",
      "metadata": {
        "id": "3bkwbWWAsA47",
        "colab_type": "code",
        "colab": {
          "base_uri": "https://localhost:8080/",
          "height": 34
        },
        "outputId": "38a86b31-c094-4cfc-e1aa-19d02273a317"
      },
      "source": [
        "print(f\"{name} is a person.\")"
      ],
      "execution_count": 3,
      "outputs": [
        {
          "output_type": "stream",
          "text": [
            "Soumyadeep is a person.\n"
          ],
          "name": "stdout"
        }
      ]
    },
    {
      "cell_type": "markdown",
      "metadata": {
        "id": "NFwm2s2BPz5Y",
        "colab_type": "text"
      },
      "source": [
        "# Variables\n"
      ]
    },
    {
      "cell_type": "markdown",
      "metadata": {
        "id": "2cwqqy-aIotY",
        "colab_type": "text"
      },
      "source": [
        "Variables can store data of different types, and different types can do different things.\n",
        "\n",
        "Text Type:\tstr\n",
        "\n",
        "Numeric Types:\tint, float, complex\n",
        "\n",
        "Sequence Types:\tlist, tuple, range\n",
        "\n",
        "Mapping Type:\tdict\n",
        "\n",
        "Boolean Type:\tbool\n"
      ]
    },
    {
      "cell_type": "code",
      "metadata": {
        "id": "Gaab502RIyJn",
        "colab_type": "code",
        "colab": {
          "base_uri": "https://localhost:8080/",
          "height": 34
        },
        "outputId": "0ed367a3-fdd1-4b34-dc28-3a34621447db"
      },
      "source": [
        "# Checking type\n",
        "x = 5\n",
        "print(type(x))"
      ],
      "execution_count": null,
      "outputs": [
        {
          "output_type": "stream",
          "text": [
            "<class 'int'>\n"
          ],
          "name": "stdout"
        }
      ]
    },
    {
      "cell_type": "code",
      "metadata": {
        "id": "LCnKMMbhKc8Y",
        "colab_type": "code",
        "colab": {}
      },
      "source": [
        "# Complex"
      ],
      "execution_count": null,
      "outputs": []
    },
    {
      "cell_type": "markdown",
      "metadata": {
        "id": "sdHihYB2KHfE",
        "colab_type": "text"
      },
      "source": [
        "Type conversion\n",
        "\n",
        "1. Integer to String\n",
        "2. String to Integer\n",
        "3. Integer to Float\n",
        "4. Float to Integer"
      ]
    },
    {
      "cell_type": "code",
      "metadata": {
        "id": "48Q256lJJ9wt",
        "colab_type": "code",
        "colab": {}
      },
      "source": [
        ""
      ],
      "execution_count": null,
      "outputs": []
    },
    {
      "cell_type": "markdown",
      "metadata": {
        "id": "vF_x5vTDMQiv",
        "colab_type": "text"
      },
      "source": [
        "# Strings in Python"
      ]
    },
    {
      "cell_type": "markdown",
      "metadata": {
        "id": "BgG5sxdILDOd",
        "colab_type": "text"
      },
      "source": [
        "\n",
        "\n",
        "Like many other popular programming languages, strings in Python are arrays of bytes representing unicode characters.\n",
        "\n",
        "However, Python does not have a character data type, a single character is simply a string with a length of 1."
      ]
    },
    {
      "cell_type": "code",
      "metadata": {
        "id": "pDGnH3qbLME5",
        "colab_type": "code",
        "colab": {}
      },
      "source": [
        ""
      ],
      "execution_count": null,
      "outputs": []
    },
    {
      "cell_type": "markdown",
      "metadata": {
        "id": "Sj5aIGXSMBT-",
        "colab_type": "text"
      },
      "source": [
        "**Multi-line strings** using three double quotes or single quotes"
      ]
    },
    {
      "cell_type": "code",
      "metadata": {
        "id": "XMCGlUVMMIGd",
        "colab_type": "code",
        "colab": {}
      },
      "source": [
        ""
      ],
      "execution_count": null,
      "outputs": []
    },
    {
      "cell_type": "markdown",
      "metadata": {
        "id": "ppifdoi4M1Zo",
        "colab_type": "text"
      },
      "source": [
        "1. Accessing"
      ]
    },
    {
      "cell_type": "markdown",
      "metadata": {
        "id": "UfPnDBpFM6nh",
        "colab_type": "text"
      },
      "source": [
        "2. Slicing"
      ]
    },
    {
      "cell_type": "markdown",
      "metadata": {
        "id": "PdEDQgwrNPfK",
        "colab_type": "text"
      },
      "source": [
        "3. Negative Indexing"
      ]
    },
    {
      "cell_type": "markdown",
      "metadata": {
        "id": "oRdD3ULDNSwr",
        "colab_type": "text"
      },
      "source": [
        "4. String length"
      ]
    },
    {
      "cell_type": "markdown",
      "metadata": {
        "id": "xZaWIgHhNZ1H",
        "colab_type": "text"
      },
      "source": [
        "**String methods**\n",
        "\n",
        "1. Removing emply character or striping"
      ]
    },
    {
      "cell_type": "markdown",
      "metadata": {
        "id": "VpJ_r3CFsnej",
        "colab_type": "text"
      },
      "source": [
        "2. Escape sequence"
      ]
    },
    {
      "cell_type": "code",
      "metadata": {
        "id": "ciNgiZeJNZGT",
        "colab_type": "code",
        "colab": {
          "base_uri": "https://localhost:8080/",
          "height": 34
        },
        "outputId": "61964c9e-8889-4c6a-ffff-63ddce0c63b2"
      },
      "source": [
        "txt = \"We are the so-called \\\"Vikings\\\" from the north.\"\n",
        "print(txt)"
      ],
      "execution_count": null,
      "outputs": [
        {
          "output_type": "stream",
          "text": [
            "We are the so-called \"Vikings\" from the north.\n"
          ],
          "name": "stdout"
        }
      ]
    },
    {
      "cell_type": "markdown",
      "metadata": {
        "id": "5uBcHbGQsrqz",
        "colab_type": "text"
      },
      "source": [
        "3. Upper & Lower"
      ]
    },
    {
      "cell_type": "code",
      "metadata": {
        "id": "xzZ_GPE5N3gy",
        "colab_type": "code",
        "colab": {}
      },
      "source": [
        ""
      ],
      "execution_count": null,
      "outputs": []
    }
  ]
}